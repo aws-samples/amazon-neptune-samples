{
 "cells": [
  {
   "cell_type": "markdown",
   "id": "1f8bca3c",
   "metadata": {},
   "source": [
    "# Use and explore embeddings\n",
    "\n",
    "In this notebook we will show how you can use the produced embeddings outside of Neptune Analytics, for example creating a t-SNE visualization of embedding quality, or using offline metrics to measure classification quality."
   ]
  },
  {
   "cell_type": "code",
   "execution_count": null,
   "id": "4a20a233-9cea-40ae-934e-8021050134a2",
   "metadata": {},
   "outputs": [],
   "source": [
    "import logging\n",
    "\n",
    "# Force logging for jupyter\n",
    "logging.basicConfig(level=logging.INFO, force=True)\n",
    "logging.getLogger(\"boto3\").setLevel(logging.WARNING)\n",
    "logging.getLogger(\"botocore\").setLevel(logging.WARNING)\n",
    "logging.getLogger(\"urllib3\").setLevel(logging.WARNING)\n",
    "logging.getLogger(\"s3transfer\").setLevel(logging.WARNING)"
   ]
  },
  {
   "cell_type": "code",
   "execution_count": null,
   "id": "4c21cc5d-b767-4b1e-8540-36934458948a",
   "metadata": {},
   "outputs": [],
   "source": [
    "import json\n",
    "import os\n",
    "\n",
    "# Read information about the graph from the JSON file you created in notebook 0\n",
    "with open(\"task-info.json\", \"r\") as f:\n",
    "    task_info = json.load(f)\n",
    "\n",
    "EXPORTED_GRAPH_S3 = task_info[\"EXPORTED_GRAPH_S3\"]\n",
    "ENRICHED_S3 = os.path.join(EXPORTED_GRAPH_S3, \"enriched\")"
   ]
  },
  {
   "cell_type": "markdown",
   "id": "be2c0b62",
   "metadata": {},
   "source": [
    "## Load enriched Transaction node data\n",
    "\n",
    "You can use NeptuneGS to read the `Transaction` node data directly from S3."
   ]
  },
  {
   "cell_type": "code",
   "execution_count": null,
   "id": "af16887e-8e18-4173-adaa-5057dc279798",
   "metadata": {},
   "outputs": [],
   "source": [
    "from neptune_gs.fs_handler import FileSystemHandler\n",
    "import pyarrow as pa\n",
    "\n",
    "\n",
    "enriched_handler = FileSystemHandler(ENRICHED_S3)\n",
    "transaction_files = enriched_handler.list_files(pattern=\"Vertex_Transaction*\")\n",
    "enriched_fields = [\n",
    "    pa.field(\"~id\", pa.string()),\n",
    "    pa.field(\"embedding:Vector\", pa.string()),\n",
    "    pa.field(\"pred:Float[]\", pa.float32()),\n",
    "]\n",
    "enriched_schema = pa.schema(enriched_fields)\n",
    "transaction_emb_pred_df = enriched_handler.create_df_from_files(\n",
    "    transaction_files, schema=enriched_schema\n",
    ").drop(\"~label\", axis=1)"
   ]
  },
  {
   "cell_type": "code",
   "execution_count": null,
   "id": "897d73bb",
   "metadata": {},
   "outputs": [],
   "source": [
    "# Convert embeddings from string to list of floats\n",
    "transaction_emb_pred_df[\"embedding:Vector\"] = (\n",
    "    transaction_emb_pred_df[\"embedding:Vector\"].astype(\"string\").str.split(\";\")\n",
    ")"
   ]
  },
  {
   "cell_type": "markdown",
   "id": "edc6789a",
   "metadata": {},
   "source": [
    "Let's take a look at the dataframe of embeddings and predictions for the Transaction node type, every Transaction node will have a risk score (`pred:Float[]`) and embedding vector attached."
   ]
  },
  {
   "cell_type": "code",
   "execution_count": null,
   "id": "abf4da8d",
   "metadata": {},
   "outputs": [],
   "source": [
    "transaction_emb_pred_df"
   ]
  },
  {
   "cell_type": "markdown",
   "id": "07332afb",
   "metadata": {},
   "source": [
    "Next you load the original data, and extract the true `isFraud` value from it. You will use that to determine the accuracy of the model"
   ]
  },
  {
   "cell_type": "code",
   "execution_count": null,
   "id": "68dd2286",
   "metadata": {},
   "outputs": [],
   "source": [
    "# Gather the actual fraud values from the input data\n",
    "original_handler = FileSystemHandler(EXPORTED_GRAPH_S3)\n",
    "\n",
    "orig_fields = [\n",
    "    pa.field(\"~id\", pa.string()),\n",
    "    pa.field(\"isFraud:Int\", pa.int8()),\n",
    "]\n",
    "orig_schema = pa.schema(orig_fields)\n",
    "# Skip the enriched files when loading the original graph data\n",
    "orig_transaction_files = [f\n",
    "    for f in original_handler.list_files(pattern=\"Vertex_Transaction*\")\n",
    "    if \"enriched\" not in f\n",
    "    ]\n",
    "orig_transactions_df = original_handler.create_df_from_files(\n",
    "    orig_transaction_files, schema=orig_schema\n",
    ")"
   ]
  },
  {
   "cell_type": "markdown",
   "id": "9651ec9b",
   "metadata": {},
   "source": [
    "You can take a quick look at the statistics for the `isFraud` column. The dataset contains about 3.5% fraudulent transactions"
   ]
  },
  {
   "cell_type": "code",
   "execution_count": null,
   "id": "b86843c7",
   "metadata": {},
   "outputs": [],
   "source": [
    "orig_transactions_df.describe()"
   ]
  },
  {
   "cell_type": "markdown",
   "id": "dad56888",
   "metadata": {},
   "source": [
    "Finally, join the enriched embeddings with the original data to have the true fraud value attached to each prediction/embedding."
   ]
  },
  {
   "cell_type": "code",
   "execution_count": null,
   "id": "3c61ba9b",
   "metadata": {},
   "outputs": [],
   "source": [
    "transactions_with_fraud = transaction_emb_pred_df.set_index(\"~id\").join(\n",
    "    orig_transactions_df.set_index(\"~id\"),\n",
    ")"
   ]
  },
  {
   "cell_type": "markdown",
   "id": "d4b8442e",
   "metadata": {},
   "source": [
    "Let's take a look at the enriched Transactions. We can see the `~id`, `isFraud` column and embedding vectors here, and the risk score in the `pred:Float[]` columns"
   ]
  },
  {
   "cell_type": "code",
   "execution_count": null,
   "id": "a8eb61b1-b116-4b3e-8144-28cce33d19aa",
   "metadata": {},
   "outputs": [],
   "source": [
    "transactions_with_fraud"
   ]
  },
  {
   "cell_type": "markdown",
   "id": "bb3e4203",
   "metadata": {},
   "source": [
    "## Create a t-SNE visualization of the embeddings\n",
    "\n",
    "Now that we have embeddings for all of the node we can select a subset and create a t-SNE visualization to inspect embedding quality.\n",
    "\n",
    "[t-SNE](https://en.wikipedia.org/wiki/T-distributed_stochastic_neighbor_embedding) is a method designed to accurately visualize high-dimensional data.\n",
    "\n",
    "We will use this method along with the real fraud labels to demonstrate the quality of the learned embeddings, which should be able to separate the two classes even when projected down to two dimensions."
   ]
  },
  {
   "cell_type": "code",
   "execution_count": null,
   "id": "337b0181",
   "metadata": {},
   "outputs": [],
   "source": [
    "import pandas as pd\n",
    "import numpy as np\n",
    "\n",
    "# First, separate fraud and non-fraud cases\n",
    "fraud_samples = transactions_with_fraud[transactions_with_fraud[\"isFraud:Int\"] == 1]\n",
    "non_fraud_samples = transactions_with_fraud[transactions_with_fraud[\"isFraud:Int\"] == 0]\n",
    "\n",
    "# Randomly sample 1000 transactions from each class\n",
    "n_samples = 1000\n",
    "seed = 42\n",
    "fraud_balanced = fraud_samples.sample(n=n_samples, random_state=seed)\n",
    "non_fraud_balanced = non_fraud_samples.sample(n=n_samples, random_state=seed)\n",
    "\n",
    "# Combine the balanced datasets\n",
    "balanced_df = pd.concat([fraud_balanced, non_fraud_balanced])\n",
    "\n",
    "# Shuffle the combined dataset\n",
    "balanced_df = balanced_df.sample(frac=1, random_state=seed)\n",
    "\n",
    "# Extract embeddings and labels from the subset\n",
    "embeddings_balanced = np.array(balanced_df[\"embedding:Vector\"].values.tolist()).astype(\n",
    "    \"float32\"\n",
    ")\n",
    "labels_balanced = balanced_df[\"isFraud:Int\"]"
   ]
  },
  {
   "cell_type": "markdown",
   "id": "70b92b38",
   "metadata": {},
   "source": [
    "Now let's fit the t-SNE estimator and plot the results"
   ]
  },
  {
   "cell_type": "code",
   "execution_count": null,
   "id": "07608d45",
   "metadata": {},
   "outputs": [],
   "source": [
    "import matplotlib.pyplot as plt\n",
    "from sklearn import manifold\n",
    "\n",
    "# Apply t-SNE\n",
    "tsne = manifold.TSNE(\n",
    "    n_components=2, perplexity=50, init=\"pca\", random_state=seed, n_jobs=-1\n",
    ")\n",
    "embeddings_2d = tsne.fit_transform(embeddings_balanced)"
   ]
  },
  {
   "cell_type": "markdown",
   "id": "21d70a92",
   "metadata": {},
   "source": [
    "Let's set up some visualization function that will allow us to plot the datapoints."
   ]
  },
  {
   "cell_type": "code",
   "execution_count": null,
   "id": "d341a18a",
   "metadata": {},
   "outputs": [],
   "source": [
    "# Visualize the results\n",
    "plt.figure(figsize=(10, 8))\n",
    "\n",
    "# Create scatter plot with two distinct colors\n",
    "scatter = plt.scatter(\n",
    "    embeddings_2d[labels_balanced == 0, 0],\n",
    "    embeddings_2d[labels_balanced == 0, 1],\n",
    "    c=\"c\",\n",
    "    label=\"Non-Fraud\",\n",
    "    alpha=0.6,\n",
    ")\n",
    "scatter = plt.scatter(\n",
    "    embeddings_2d[labels_balanced == 1, 0],\n",
    "    embeddings_2d[labels_balanced == 1, 1],\n",
    "    c=\"m\",\n",
    "    label=\"Fraud\",\n",
    "    alpha=0.6,\n",
    ")\n",
    "\n",
    "# Add legend\n",
    "plt.legend()\n",
    "\n",
    "plt.title(\"t-SNE visualization of transaction embeddings\")\n",
    "plt.xlabel(\"t-SNE dimension 1\")\n",
    "plt.ylabel(\"t-SNE dimension 2\")\n",
    "plt.show()"
   ]
  },
  {
   "cell_type": "markdown",
   "id": "fc5e4bf1",
   "metadata": {},
   "source": [
    "We can see that our model has achieved a good separation between the two classes.\n",
    "\n",
    "To better quantify the model's accuracy, you can use the original train/test splits to measure the model's performance on unseen data."
   ]
  },
  {
   "cell_type": "markdown",
   "id": "4b42ce9c",
   "metadata": {},
   "source": [
    "## Offline evaluation "
   ]
  },
  {
   "cell_type": "markdown",
   "id": "1e68c46d",
   "metadata": {},
   "source": [
    "With access to the predictions for all the transactions in the graph with can perform additional offline evaluation of the model performance. \n",
    "\n",
    "First, you will load the transactions that were selected for your held-out test set to check the model's performance on unseen data"
   ]
  },
  {
   "cell_type": "code",
   "execution_count": null,
   "id": "ca928924",
   "metadata": {},
   "outputs": [],
   "source": [
    "# Gather test ids from input data\n",
    "test_ids = enriched_handler.create_df_from_files(\n",
    "    [f\"{EXPORTED_GRAPH_S3}/data_splits/test_ids.parquet\"]\n",
    ")\n",
    "test_ids.set_index(\"nid\", inplace=True)\n",
    "test_ids.index = test_ids.index.astype(str)\n",
    "test_preds = test_ids.join(\n",
    "    transactions_with_fraud,\n",
    "    how=\"left\",\n",
    ")\n",
    "# Convert test predictions from string to float\n",
    "test_preds[\"pred:Float[]\"] = (\n",
    "    test_preds[\"pred:Float[]\"]\n",
    "    .astype(\"string\")\n",
    "    .str.split(\";\", expand=True)\n",
    "    .astype(\"float\")\n",
    ")"
   ]
  },
  {
   "cell_type": "markdown",
   "id": "1f1ddc6b",
   "metadata": {},
   "source": [
    "Next you can plot the Receiver Operating Characteristic and Precision-Recall curves to visualize the performance of the GNN model."
   ]
  },
  {
   "cell_type": "code",
   "execution_count": null,
   "id": "35db1930",
   "metadata": {},
   "outputs": [],
   "source": [
    "import matplotlib.pyplot as plt\n",
    "\n",
    "from sklearn.metrics import RocCurveDisplay, PrecisionRecallDisplay\n",
    "\n",
    "fig, [ax_roc, ax_pr] = plt.subplots(1, 2, figsize=(11, 5))\n",
    "PrecisionRecallDisplay.from_predictions(\n",
    "    y_true=test_preds[\"isFraud:Int\"],\n",
    "    y_pred=test_preds[\"pred:Float[]\"],\n",
    "    plot_chance_level=True,\n",
    "    despine=True,\n",
    "    ax=ax_pr,\n",
    ")\n",
    "\n",
    "RocCurveDisplay.from_predictions(\n",
    "    y_true=test_preds[\"isFraud:Int\"],\n",
    "    y_pred=test_preds[\"pred:Float[]\"],\n",
    "    name=\"GNN\",\n",
    "    plot_chance_level=True,\n",
    "    despine=True,\n",
    "    ax=ax_roc,\n",
    ")\n",
    "\n",
    "ax_roc.set_title(\"Receiver Operating Characteristic (ROC) curves\")\n",
    "ax_pr.set_title(\"Precision-Recall curves\")\n",
    "\n",
    "ax_roc.grid(linestyle=\"--\")\n",
    "ax_pr.grid(linestyle=\"--\")\n",
    "\n",
    "plt.legend()\n",
    "plt.show()"
   ]
  },
  {
   "cell_type": "markdown",
   "id": "85f20396",
   "metadata": {},
   "source": [
    "We can see that the model is able to achieve an AUC score of ~0.90 on the unseen data and maintain high precision/recall values.\n",
    "\n",
    "In the next notebook you will import this graph back into Neptune Analytics to run some example queries and assign a _risk score_ to transactions using information from the graph."
   ]
  }
 ],
 "metadata": {
  "kernelspec": {
   "display_name": "Python 3 (ipykernel)",
   "language": "python",
   "name": "python3"
  },
  "language_info": {
   "codemirror_mode": {
    "name": "ipython",
    "version": 3
   },
   "file_extension": ".py",
   "mimetype": "text/x-python",
   "name": "python",
   "nbconvert_exporter": "python",
   "pygments_lexer": "ipython3",
   "version": "3.10.4"
  }
 },
 "nbformat": 4,
 "nbformat_minor": 5
}
