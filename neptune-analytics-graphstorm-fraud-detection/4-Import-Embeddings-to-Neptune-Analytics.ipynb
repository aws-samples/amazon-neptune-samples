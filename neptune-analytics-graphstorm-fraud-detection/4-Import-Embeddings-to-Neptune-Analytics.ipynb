{
 "cells": [
  {
   "cell_type": "markdown",
   "metadata": {},
   "source": [
    "## Create a new Neptune Analytics graph with a vertex index\n",
    "\n",
    "After enriching your graph with embeddings for every Transaction, you can now proceed to bring this data back into Neptune Analytics. \n",
    "\n",
    "Here you will run an import task that will import both the original graph data and enriched predictions and embeddings together."
   ]
  },
  {
   "cell_type": "code",
   "execution_count": null,
   "metadata": {},
   "outputs": [],
   "source": [
    "import json\n",
    "import os\n",
    "\n",
    "# Read information about the graph from the JSON file you created in notebook 0\n",
    "with open(\"task-info.json\", \"r\") as f:\n",
    "    task_info = json.load(f)\n",
    "\n",
    "BUCKET=task_info[\"BUCKET\"]\n",
    "GRAPH_NAME=task_info[\"GRAPH_NAME\"]\n",
    "EXPORTED_GRAPH_S3 = task_info[\"EXPORTED_GRAPH_S3\"]\n",
    "ENRICHED_S3 = os.path.join(EXPORTED_GRAPH_S3, \"enriched\")\n",
    "GRAPH_ID = task_info[\"GRAPH_ID\"]\n",
    "AWS_REGION = task_info[\"AWS_REGION\"]\n",
    "\n",
    "# Neptune Analytics bulk loader role needs:\n",
    "# - AmazonS3ReadOnlyAccess (or more restricted S3 access)\n",
    "# - AWS KMS permissions if using encrypted S3 buckets\n",
    "# For detailed permissions and trust policy requirements, see:\n",
    "# https://docs.aws.amazon.com/neptune-analytics/latest/userguide/bulk-import-create-from-s3.html#create-iam-role-for-s3-access\n",
    "NEPTUNE_IMPORT_ROLE = \"arn:aws:iam::0123456789012:role/<Your-NeptuneAnalytics-Import-Role>\""
   ]
  },
  {
   "cell_type": "code",
   "execution_count": 3,
   "metadata": {},
   "outputs": [],
   "source": [
    "import boto3\n",
    "from botocore.config import Config\n",
    "\n",
    "# Configure boto3 client with retries and error handling\n",
    "config = Config(\n",
    "    retries={\"total_max_attempts\": 1, \"mode\": \"standard\"},\n",
    "    read_timeout=None\n",
    ")\n",
    "\n",
    "neptune_graph = boto3.client(\"neptune-graph\")"
   ]
  },
  {
   "cell_type": "markdown",
   "metadata": {},
   "source": [
    "### Move the training masks to a different path\n",
    "\n",
    "Because Neptune Analytics expects only graph data to be present under the import S3 prefix, you will need to move the data split files you created for training, validation, and test sets:"
   ]
  },
  {
   "cell_type": "code",
   "execution_count": null,
   "metadata": {},
   "outputs": [],
   "source": [
    "OLD_MASKS_S3 = f\"{EXPORTED_GRAPH_S3}/data_splits/\"\n",
    "NEW_MASKS_S3 = f\"s3://{BUCKET}/neptune-input/{GRAPH_NAME}/data_splits/\""
   ]
  },
  {
   "cell_type": "code",
   "execution_count": null,
   "metadata": {},
   "outputs": [],
   "source": [
    "!aws s3 mv --recursive $OLD_MASKS_S3 $NEW_MASKS_S3"
   ]
  },
  {
   "cell_type": "markdown",
   "metadata": {},
   "source": [
    "### Start the import task"
   ]
  },
  {
   "cell_type": "markdown",
   "metadata": {},
   "source": [
    "The data on S3 are now ready to be imported into Neptune Analytics"
   ]
  },
  {
   "cell_type": "code",
   "execution_count": 4,
   "metadata": {},
   "outputs": [],
   "source": [
    "# Start the import task\n",
    "import_response = neptune_graph.start_import_task(\n",
    "    graphIdentifier=GRAPH_ID,\n",
    "    format=\"CSV\",\n",
    "    source=EXPORTED_GRAPH_S3,\n",
    "    roleArn=NEPTUNE_IMPORT_ROLE,\n",
    ")\n",
    "# Get the task ID from the response\n",
    "task_id = import_response[\"taskId\"]"
   ]
  },
  {
   "cell_type": "code",
   "execution_count": null,
   "metadata": {},
   "outputs": [],
   "source": [
    "# Wait for import task to complete\n",
    "import_waiter = neptune_graph.get_waiter(\"import_task_successful\")\n",
    "import_waiter.wait(taskIdentifier=task_id)"
   ]
  },
  {
   "cell_type": "markdown",
   "metadata": {},
   "source": [
    "The data import should take around ~10 minutes to complete."
   ]
  },
  {
   "cell_type": "markdown",
   "metadata": {},
   "source": [
    "In notebook `1 - SageMaker Setup`, you launched a graph notebook. Let's ensure the notebook instance is available before moving on to the final notebook which you will run on the graph notebook instance itself."
   ]
  },
  {
   "cell_type": "code",
   "execution_count": null,
   "metadata": {},
   "outputs": [],
   "source": [
    "sm_client = boto3.client(\"sagemaker\", region_name=AWS_REGION, config=config)\n",
    "\n",
    "try:\n",
    "    waiter = sm_client.get_waiter(\"notebook_instance_in_service\")\n",
    "    waiter.wait(\n",
    "        NotebookInstanceName=f\"{GRAPH_NAME}-{GRAPH_ID}-notebook\",\n",
    "    )\n",
    "except Exception as e:\n",
    "    print(f\"Error waiting for notebook instance: {str(e)}\")\n",
    "    raise"
   ]
  },
  {
   "cell_type": "markdown",
   "metadata": {},
   "source": [
    "If the notebook is available, you will be able to to login to it using the URL provided below:"
   ]
  },
  {
   "cell_type": "code",
   "execution_count": null,
   "metadata": {},
   "outputs": [],
   "source": [
    "from IPython.display import Markdown, display\n",
    "\n",
    "try:\n",
    "    # Get the presigned URL for the notebook instance\n",
    "    response = sm_client.create_presigned_notebook_instance_url(\n",
    "        NotebookInstanceName=f\"{GRAPH_NAME}-{GRAPH_ID}-notebook\"\n",
    "    )\n",
    "\n",
    "    # Display as a clickable link with custom text\n",
    "    display(Markdown(f\"[Open JupyterLab Instance]({response['AuthorizedUrl']})\"))\n",
    "except Exception as e:\n",
    "    print(f\"Error creating presigned URL: {str(e)}\")\n",
    "    raise"
   ]
  }
 ],
 "metadata": {
  "kernelspec": {
   "display_name": "Python 3 (ipykernel)",
   "language": "python",
   "name": "python3"
  },
  "language_info": {
   "codemirror_mode": {
    "name": "ipython",
    "version": 3
   },
   "file_extension": ".py",
   "mimetype": "text/x-python",
   "name": "python",
   "nbconvert_exporter": "python",
   "pygments_lexer": "ipython3",
   "version": "3.10.4"
  }
 },
 "nbformat": 4,
 "nbformat_minor": 4
}
