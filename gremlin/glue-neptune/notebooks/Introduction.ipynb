{
  "cells": [
    {
      "cell_type": "markdown",
      "metadata": {
      },
      "source": [
        "# Migrating from MySQL to Amazon Neptune using AWS Glue"
      ]
    },
    {
      "cell_type": "markdown",
      "metadata": {
      },
      "source": [
        "This demo shows how to migrate relational data from MySQL to Amazon Neptune using AWS Glue.\n",
        "\n",
        "The demo uses several different migration techniques:\n",
        "\n",
        "- Extract data from MySQL to Amazon S3 as CSV files. Bulk load from the CSV files into Neptune.\n",
        "- Extract data from MySQL and write it directly to Neptune.\n",
        "- Incrementally load data from MySQL to Neptune.\n",
        "\n",
        "The two data models are shown below. The MySQL database contains details of products, suppliers, orders and customers. The demo shows us migrating products, suppliers and orders data, but not customer data – though there's no reason it couldn't be expanded to also migrate customer data. We leave that as an exercise for the reader.\n",
        "\n",
        "The scripts for the AWS Glue jobs can be found [here](https://github.com/aws-samples/amazon-neptune-samples/tree/master/gremlin/glue-neptune/glue-jobs/). The scripts use the [neptune-python-utils](https://github.com/awslabs/amazon-neptune-tools/tree/master/neptune-python-utils) Python library."
      ]
    },
    {
      "cell_type": "markdown",
      "metadata": {
      },
      "source": [
        "<img src=\"https://s3.amazonaws.com/aws-neptune-customer-samples/neptune-sagemaker/images/mysql-2-neptune-01.png\"/>"
      ]
    }
  ],
  "metadata": {
    "kernelspec": {
      "display_name": "Python 3",
      "language": "python",
      "name": "python3"
    },
    "language_info": {
      "codemirror_mode": {
        "name": "ipython",
        "version": 3
      },
      "file_extension": ".py",
      "mimetype": "text/x-python",
      "name": "python",
      "nbconvert_exporter": "python",
      "pygments_lexer": "ipython3",
      "version": "3.7.12"
    }
  },
  "nbformat": 4,
  "nbformat_minor": 2
}